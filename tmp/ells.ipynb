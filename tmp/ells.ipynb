{
 "cells": [
  {
   "cell_type": "code",
   "execution_count": null,
   "id": "799cc573",
   "metadata": {
    "vscode": {
     "languageId": "html"
    }
   },
   "outputs": [],
   "source": [
    "<img src=\"attachment:image.png\" alt=\"image.png\" style=\"width: 50%; height: auto;\">"
   ]
  },
  {
   "cell_type": "markdown",
   "id": "764611a0",
   "metadata": {},
   "source": []
  }
 ],
 "metadata": {
  "language_info": {
   "name": "python"
  }
 },
 "nbformat": 4,
 "nbformat_minor": 5
}
